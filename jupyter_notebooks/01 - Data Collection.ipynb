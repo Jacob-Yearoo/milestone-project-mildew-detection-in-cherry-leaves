{
  "cells": [
    {
      "cell_type": "markdown",
      "metadata": {
        "id": "0aStgWSO0E0E"
      },
      "source": [
        "# **Initial Data Collection**"
      ]
    },
    {
      "cell_type": "markdown",
      "metadata": {
        "id": "1eLEkw5O0ECa"
      },
      "source": [
        "## Objectives\n",
        "\n",
        "* Fetch data from Kaggle and save as raw data\n",
        "\n",
        "## Inputs\n",
        "\n",
        "* Kaggle JSON file\n",
        "\n",
        "## Outputs\n",
        "datasets\n",
        "* Generate the dataset in: 'inputs/datasets/cherry_leaves'\n",
        "\n"
      ]
    },
    {
      "cell_type": "markdown",
      "metadata": {
        "id": "9uWZXH9LwoQg"
      },
      "source": [
        "---"
      ]
    },
    {
      "cell_type": "markdown",
      "metadata": {
        "id": "cqP-UeN-z3i2"
      },
      "source": [
        "# Change working directory"
      ]
    },
    {
      "cell_type": "markdown",
      "metadata": {
        "id": "aOGIGS-uz3i2"
      },
      "source": [
        "We need to change the working directory from its current folder to its parent folder\n",
        "* We access the current directory with os.getcwd()"
      ]
    },
    {
      "cell_type": "code",
      "execution_count": 1,
      "metadata": {
        "id": "wZfF_j-Bz3i4",
        "outputId": "66943449-1436-4c3d-85c7-b85f9f78349b"
      },
      "outputs": [
        {
          "output_type": "execute_result",
          "data": {
            "text/plain": "'/workspaces/milestone-project-mildew-detection-in-cherry-leaves/jupyter_notebooks'"
          },
          "metadata": {},
          "execution_count": 1
        }
      ],
      "source": [
        "import os\n",
        "current_dir = os.getcwd()\n",
        "current_dir"
      ]
    },
    {
      "cell_type": "markdown",
      "metadata": {
        "id": "9MWW8E7lz3i7"
      },
      "source": [
        "We want to make the parent of the current directory the new current directory\n",
        "* os.path.dirname() gets the parent directory\n",
        "* os.chir() defines the new current directory"
      ]
    },
    {
      "cell_type": "code",
      "execution_count": 2,
      "metadata": {
        "id": "TwHsQRWjz3i9",
        "outputId": "86849db3-cd2f-4cc5-ebb8-2d0caafa1a2c",
        "tags": []
      },
      "outputs": [
        {
          "output_type": "stream",
          "name": "stdout",
          "text": "You set a new current directory\n"
        }
      ],
      "source": [
        "os.chdir(os.path.dirname(current_dir))\n",
        "print(\"You set a new current directory\")"
      ]
    },
    {
      "cell_type": "markdown",
      "metadata": {
        "id": "M_xPk_Ijz3i-"
      },
      "source": [
        "Confirm the new current directory"
      ]
    },
    {
      "cell_type": "code",
      "execution_count": 3,
      "metadata": {
        "id": "vz3S-_kjz3jA",
        "outputId": "00b79ae4-75d0-4a96-d193-ac9ef9847ea2"
      },
      "outputs": [
        {
          "output_type": "execute_result",
          "data": {
            "text/plain": "'/workspaces/milestone-project-mildew-detection-in-cherry-leaves'"
          },
          "metadata": {},
          "execution_count": 3
        }
      ],
      "source": [
        "current_dir = os.getcwd()\n",
        "current_dir"
      ]
    },
    {
      "cell_type": "code",
      "execution_count": null,
      "metadata": {
        "tags": [
          "outputPrepend"
        ]
      },
      "outputs": [],
      "source": [
        "%pip install -r /workspaces/milestone-project-mildew-detection-in-cherry-leaves/requirements.txt"
      ]
    },
    {
      "cell_type": "markdown",
      "metadata": {
        "id": "-mavJ8DibrcQ"
      },
      "source": [
        "# Install Kaggle\n",
        "\n",
        "* We will install the kaggle module so we can download the dataset from the kaggle website"
      ]
    },
    {
      "cell_type": "code",
      "execution_count": null,
      "metadata": {
        "tags": []
      },
      "outputs": [],
      "source": [
        "%pip install kaggle"
      ]
    },
    {
      "cell_type": "markdown",
      "metadata": {},
      "source": [
        "---"
      ]
    },
    {
      "source": [
        "* this code will set the environment variable (KAGGLE_CONFIG_DIR) to work out of, the second part of the code sets the kaggle.json permissions so only I, as the owner can read from it"
      ],
      "cell_type": "markdown",
      "metadata": {}
    },
    {
      "cell_type": "code",
      "execution_count": 10,
      "metadata": {
        "tags": []
      },
      "outputs": [],
      "source": [
        "os.environ['KAGGLE_CONFIG_DIR'] = os.getcwd()\n",
        "! chmod 600 kaggle.json"
      ]
    },
    {
      "cell_type": "markdown",
      "metadata": {
        "id": "ZY3l0-AxO93d"
      },
      "source": [
        "---"
      ]
    },
    {
      "cell_type": "code",
      "execution_count": 9,
      "metadata": {
        "tags": []
      },
      "outputs": [
        {
          "output_type": "stream",
          "name": "stdout",
          "text": "Warning: Your Kaggle API key is readable by other users on this system! To fix this, you can run 'chmod 600 /workspaces/milestone-project-mildew-detection-in-cherry-leaves/kaggle.json'\nDownloading cherry-leaves.zip to inputs/datasets\n 96%|████████████████████████████████████▌ | 53.0M/55.0M [00:01<00:00, 58.9MB/s]\n100%|██████████████████████████████████████| 55.0M/55.0M [00:01<00:00, 44.7MB/s]\n"
        }
      ],
      "source": [
        "KaggleDatasetPath = \"codeinstitute/cherry-leaves\"\n",
        "DestinationFolder = \"inputs/datasets/\"   \n",
        "! kaggle datasets download -d {KaggleDatasetPath} -p {DestinationFolder}"
      ]
    },
    {
      "source": [
        "* This code unzips the downloaded dataset and simultaneously deleted the .zip version it also removes the kaggle.json file and adds it .gitignore"
      ],
      "cell_type": "markdown",
      "metadata": {}
    },
    {
      "cell_type": "code",
      "execution_count": 11,
      "metadata": {
        "tags": [
          "outputPrepend"
        ]
      },
      "outputs": [
        {
          "output_type": "stream",
          "name": "stdout",
          "text": "9885___FREC_Pwd.M 0276.JPG  \n  inflating: inputs/datasets/cherry-leaves/powdery_mildew/ef0039cb-e261-4019-86a1-db6287829885___FREC_Pwd.M 0276_flipLR.JPG  \n  inflating: inputs/datasets/cherry-leaves/powdery_mildew/ef4c52e5-d7d8-4996-b445-42478df2c353___FREC_Pwd.M 0584.JPG  \n  inflating: inputs/datasets/cherry-leaves/powdery_mildew/ef4c52e5-d7d8-4996-b445-42478df2c353___FREC_Pwd.M 0584_flipLR.JPG  \n  inflating: inputs/datasets/cherry-leaves/powdery_mildew/ef6ede1b-32db-433e-afc6-c39cb318f58e___FREC_Pwd.M 0506.JPG  \n  inflating: inputs/datasets/cherry-leaves/powdery_mildew/ef6ede1b-32db-433e-afc6-c39cb318f58e___FREC_Pwd.M 0506_flipLR.JPG  \n  inflating: inputs/datasets/cherry-leaves/powdery_mildew/efdc7774-273a-488d-8153-fb61908e3cfb___FREC_Pwd.M 4467.JPG  \n  inflating: inputs/datasets/cherry-leaves/powdery_mildew/efdc7774-273a-488d-8153-fb61908e3cfb___FREC_Pwd.M 4467_flipLR.JPG  \n  inflating: inputs/datasets/cherry-leaves/powdery_mildew/f0318151-9783-43f4-a1f1-d8ec05e565df___FREC_Pwd.M 0315.JPG  \n  inflating: inputs/datasets/cherry-leaves/powdery_mildew/f0318151-9783-43f4-a1f1-d8ec05e565df___FREC_Pwd.M 0315_flipLR.JPG  \n  inflating: inputs/datasets/cherry-leaves/powdery_mildew/f05c24da-e97c-4749-afc3-cd9832428f60___FREC_Pwd.M 5028.JPG  \n  inflating: inputs/datasets/cherry-leaves/powdery_mildew/f05c24da-e97c-4749-afc3-cd9832428f60___FREC_Pwd.M 5028_flipLR.JPG  \n  inflating: inputs/datasets/cherry-leaves/powdery_mildew/f0a3927a-f7b3-4907-b511-930107a5607f___FREC_Pwd.M 0590.JPG  \n  inflating: inputs/datasets/cherry-leaves/powdery_mildew/f0a3927a-f7b3-4907-b511-930107a5607f___FREC_Pwd.M 0590_flipLR.JPG  \n  inflating: inputs/datasets/cherry-leaves/powdery_mildew/f0af55b8-2e06-4881-ba70-1b1918473a95___FREC_Pwd.M 4731.JPG  \n  inflating: inputs/datasets/cherry-leaves/powdery_mildew/f0af55b8-2e06-4881-ba70-1b1918473a95___FREC_Pwd.M 4731_flipLR.JPG  \n  inflating: inputs/datasets/cherry-leaves/powdery_mildew/f0bd1b72-eaaa-4a37-b84f-ff62bb1214f4___FREC_Pwd.M 4540.JPG  \n  inflating: inputs/datasets/cherry-leaves/powdery_mildew/f0bd1b72-eaaa-4a37-b84f-ff62bb1214f4___FREC_Pwd.M 4540_flipLR.JPG  \n  inflating: inputs/datasets/cherry-leaves/powdery_mildew/f0f78be1-0aed-45ef-8c86-acfbe286d1dd___FREC_Pwd.M 4911.JPG  \n  inflating: inputs/datasets/cherry-leaves/powdery_mildew/f0f78be1-0aed-45ef-8c86-acfbe286d1dd___FREC_Pwd.M 4911_flipLR.JPG  \n  inflating: inputs/datasets/cherry-leaves/powdery_mildew/f17ab455-9f71-4eb0-b9dc-f4c5604893e1___FREC_Pwd.M 4647.JPG  \n  inflating: inputs/datasets/cherry-leaves/powdery_mildew/f17ab455-9f71-4eb0-b9dc-f4c5604893e1___FREC_Pwd.M 4647_flipLR.JPG  \n  inflating: inputs/datasets/cherry-leaves/powdery_mildew/f2195961-ff27-4628-a344-72aae1d750b4___FREC_Pwd.M 4476.JPG  \n  inflating: inputs/datasets/cherry-leaves/powdery_mildew/f2195961-ff27-4628-a344-72aae1d750b4___FREC_Pwd.M 4476_flipLR.JPG  \n  inflating: inputs/datasets/cherry-leaves/powdery_mildew/f22b9bbe-1c84-4e0b-bc23-f9da36765801___FREC_Pwd.M 0472.JPG  \n  inflating: inputs/datasets/cherry-leaves/powdery_mildew/f22b9bbe-1c84-4e0b-bc23-f9da36765801___FREC_Pwd.M 0472_flipLR.JPG  \n  inflating: inputs/datasets/cherry-leaves/powdery_mildew/f28e7be1-c3ac-4c7b-bc30-94b8985a9614___FREC_Pwd.M 4999.JPG  \n  inflating: inputs/datasets/cherry-leaves/powdery_mildew/f28e7be1-c3ac-4c7b-bc30-94b8985a9614___FREC_Pwd.M 4999_flipLR.JPG  \n  inflating: inputs/datasets/cherry-leaves/powdery_mildew/f310a75d-83cb-49db-9df0-b88971930485___FREC_Pwd.M 5130.JPG  \n  inflating: inputs/datasets/cherry-leaves/powdery_mildew/f310a75d-83cb-49db-9df0-b88971930485___FREC_Pwd.M 5130_flipLR.JPG  \n  inflating: inputs/datasets/cherry-leaves/powdery_mildew/f318d0ce-aa1d-4287-83b7-0b56c8906ef5___FREC_Pwd.M 4683.JPG  \n  inflating: inputs/datasets/cherry-leaves/powdery_mildew/f318d0ce-aa1d-4287-83b7-0b56c8906ef5___FREC_Pwd.M 4683_flipLR.JPG  \n  inflating: inputs/datasets/cherry-leaves/powdery_mildew/f34e2369-095d-45a6-8407-0272da9aeaef___FREC_Pwd.M 4920.JPG  \n  inflating: inputs/datasets/cherry-leaves/powdery_mildew/f34e2369-095d-45a6-8407-0272da9aeaef___FREC_Pwd.M 4920_flipLR.JPG  \n  inflating: inputs/datasets/cherry-leaves/powdery_mildew/f38f68c9-d944-4308-89f3-d77eae66da95___FREC_Pwd.M 4692.JPG  \n  inflating: inputs/datasets/cherry-leaves/powdery_mildew/f38f68c9-d944-4308-89f3-d77eae66da95___FREC_Pwd.M 4692_flipLR.JPG  \n  inflating: inputs/datasets/cherry-leaves/powdery_mildew/f3ca4413-77d8-4e46-8c5b-399a1d34c8f9___FREC_Pwd.M 0482.JPG  \n  inflating: inputs/datasets/cherry-leaves/powdery_mildew/f3ca4413-77d8-4e46-8c5b-399a1d34c8f9___FREC_Pwd.M 0482_flipLR.JPG  \n  inflating: inputs/datasets/cherry-leaves/powdery_mildew/f3f8c47e-5a42-4c5b-9ba7-7522caa6ceb1___FREC_Pwd.M 0356.JPG  \n  inflating: inputs/datasets/cherry-leaves/powdery_mildew/f3f8c47e-5a42-4c5b-9ba7-7522caa6ceb1___FREC_Pwd.M 0356_flipLR.JPG  \n  inflating: inputs/datasets/cherry-leaves/powdery_mildew/f4021e21-1d79-4eac-a128-3e67ce8d51b4___FREC_Pwd.M 4896.JPG  \n  inflating: inputs/datasets/cherry-leaves/powdery_mildew/f4021e21-1d79-4eac-a128-3e67ce8d51b4___FREC_Pwd.M 4896_flipLR.JPG  \n  inflating: inputs/datasets/cherry-leaves/powdery_mildew/f42d7be6-3df3-4590-8941-de9634a81215___FREC_Pwd.M 4612.JPG  \n  inflating: inputs/datasets/cherry-leaves/powdery_mildew/f42d7be6-3df3-4590-8941-de9634a81215___FREC_Pwd.M 4612_flipLR.JPG  \n  inflating: inputs/datasets/cherry-leaves/powdery_mildew/f4945a45-108e-44d3-926c-969a538ec7e7___FREC_Pwd.M 4470.JPG  \n  inflating: inputs/datasets/cherry-leaves/powdery_mildew/f4945a45-108e-44d3-926c-969a538ec7e7___FREC_Pwd.M 4470_flipLR.JPG  \n  inflating: inputs/datasets/cherry-leaves/powdery_mildew/f4a25922-202e-4024-8eb9-636311603cba___FREC_Pwd.M 0441.JPG  \n  inflating: inputs/datasets/cherry-leaves/powdery_mildew/f4a25922-202e-4024-8eb9-636311603cba___FREC_Pwd.M 0441_flipLR.JPG  \n  inflating: inputs/datasets/cherry-leaves/powdery_mildew/f4a3ab38-22b7-4d82-a6a7-b58fccdb13b6___FREC_Pwd.M 0522.JPG  \n  inflating: inputs/datasets/cherry-leaves/powdery_mildew/f4a3ab38-22b7-4d82-a6a7-b58fccdb13b6___FREC_Pwd.M 0522_flipLR.JPG  \n  inflating: inputs/datasets/cherry-leaves/powdery_mildew/f4b0bedb-975d-484c-8e38-42c8ed478474___FREC_Pwd.M 4873.JPG  \n  inflating: inputs/datasets/cherry-leaves/powdery_mildew/f4b0bedb-975d-484c-8e38-42c8ed478474___FREC_Pwd.M 4873_flipLR.JPG  \n  inflating: inputs/datasets/cherry-leaves/powdery_mildew/f4b0eebc-6b12-4e18-9223-03a0f4b7a50a___FREC_Pwd.M 4821.JPG  \n  inflating: inputs/datasets/cherry-leaves/powdery_mildew/f4b0eebc-6b12-4e18-9223-03a0f4b7a50a___FREC_Pwd.M 4821_flipLR.JPG  \n  inflating: inputs/datasets/cherry-leaves/powdery_mildew/f4c7b253-a8f2-4c9d-8eae-78afa364b30a___FREC_Pwd.M 5092.JPG  \n  inflating: inputs/datasets/cherry-leaves/powdery_mildew/f4c7b253-a8f2-4c9d-8eae-78afa364b30a___FREC_Pwd.M 5092_flipLR.JPG  \n  inflating: inputs/datasets/cherry-leaves/powdery_mildew/f4e8883a-b92b-449c-9f9f-447bc9b288c6___FREC_Pwd.M 4893.JPG  \n  inflating: inputs/datasets/cherry-leaves/powdery_mildew/f4e8883a-b92b-449c-9f9f-447bc9b288c6___FREC_Pwd.M 4893_flipLR.JPG  \n  inflating: inputs/datasets/cherry-leaves/powdery_mildew/f50f0410-32ed-4012-85ed-9a1124cf6014___FREC_Pwd.M 4688.JPG  \n  inflating: inputs/datasets/cherry-leaves/powdery_mildew/f50f0410-32ed-4012-85ed-9a1124cf6014___FREC_Pwd.M 4688_flipLR.JPG  \n  inflating: inputs/datasets/cherry-leaves/powdery_mildew/f5984d40-8f9d-4947-999e-7e146441e9c9___FREC_Pwd.M 4703.JPG  \n  inflating: inputs/datasets/cherry-leaves/powdery_mildew/f5984d40-8f9d-4947-999e-7e146441e9c9___FREC_Pwd.M 4703_flipLR.JPG  \n  inflating: inputs/datasets/cherry-leaves/powdery_mildew/f5ad64c9-d9ee-40be-9bbf-452adc290ea4___FREC_Pwd.M 4558.JPG  \n  inflating: inputs/datasets/cherry-leaves/powdery_mildew/f5ad64c9-d9ee-40be-9bbf-452adc290ea4___FREC_Pwd.M 4558_flipLR.JPG  \n  inflating: inputs/datasets/cherry-leaves/powdery_mildew/f5e5ebb5-07c1-4774-bcca-fd8c575a7bd0___FREC_Pwd.M 0385.JPG  \n  inflating: inputs/datasets/cherry-leaves/powdery_mildew/f5e5ebb5-07c1-4774-bcca-fd8c575a7bd0___FREC_Pwd.M 0385_flipLR.JPG  \n  inflating: inputs/datasets/cherry-leaves/powdery_mildew/f5e8d671-c487-4253-993f-42bd260e615c___FREC_Pwd.M 4958.JPG  \n  inflating: inputs/datasets/cherry-leaves/powdery_mildew/f5e8d671-c487-4253-993f-42bd260e615c___FREC_Pwd.M 4958_flipLR.JPG  \n  inflating: inputs/datasets/cherry-leaves/powdery_mildew/f5ed7117-153e-4e4a-a466-297bdbd1bf37___FREC_Pwd.M 4787.JPG  \n  inflating: inputs/datasets/cherry-leaves/powdery_mildew/f5ed7117-153e-4e4a-a466-297bdbd1bf37___FREC_Pwd.M 4787_flipLR.JPG  \n  inflating: inputs/datasets/cherry-leaves/powdery_mildew/f5f49058-a1ed-4ea4-ab77-e588914b763e___FREC_Pwd.M 0329.JPG  \n  inflating: inputs/datasets/cherry-leaves/powdery_mildew/f5f49058-a1ed-4ea4-ab77-e588914b763e___FREC_Pwd.M 0329_flipLR.JPG  \n  inflating: inputs/datasets/cherry-leaves/powdery_mildew/f60d6eac-3014-44cf-b11b-c4c99ef4b0ba___FREC_Pwd.M 4715.JPG  \n  inflating: inputs/datasets/cherry-leaves/powdery_mildew/f60d6eac-3014-44cf-b11b-c4c99ef4b0ba___FREC_Pwd.M 4715_flipLR.JPG  \n  inflating: inputs/datasets/cherry-leaves/powdery_mildew/f66cd543-8b6b-4a13-9581-6a57dd83032e___FREC_Pwd.M 0571.JPG  \n  inflating: inputs/datasets/cherry-leaves/powdery_mildew/f66cd543-8b6b-4a13-9581-6a57dd83032e___FREC_Pwd.M 0571_flipLR.JPG  \n  inflating: inputs/datasets/cherry-leaves/powdery_mildew/f67d7a09-517c-460f-9c75-aa891586a58b___FREC_Pwd.M 4909.JPG  \n  inflating: inputs/datasets/cherry-leaves/powdery_mildew/f67d7a09-517c-460f-9c75-aa891586a58b___FREC_Pwd.M 4909_flipLR.JPG  \n  inflating: inputs/datasets/cherry-leaves/powdery_mildew/f6bb0a43-56e1-423a-9da5-0e2e71f0d9a6___FREC_Pwd.M 5149.JPG  \n  inflating: inputs/datasets/cherry-leaves/powdery_mildew/f6bb0a43-56e1-423a-9da5-0e2e71f0d9a6___FREC_Pwd.M 5149_flipLR.JPG  \n  inflating: inputs/datasets/cherry-leaves/powdery_mildew/f6d3fe59-d384-444b-a906-b7aa8e008c31___FREC_Pwd.M 4852.JPG  \n  inflating: inputs/datasets/cherry-leaves/powdery_mildew/f6d3fe59-d384-444b-a906-b7aa8e008c31___FREC_Pwd.M 4852_flipLR.JPG  \n  inflating: inputs/datasets/cherry-leaves/powdery_mildew/f727949e-3f0f-40a1-bcb5-e7619df8ff87___FREC_Pwd.M 5128.JPG  \n  inflating: inputs/datasets/cherry-leaves/powdery_mildew/f727949e-3f0f-40a1-bcb5-e7619df8ff87___FREC_Pwd.M 5128_flipLR.JPG  \n  inflating: inputs/datasets/cherry-leaves/powdery_mildew/f7385075-b341-47bf-8521-5561918bd3cb___FREC_Pwd.M 0501.JPG  \n  inflating: inputs/datasets/cherry-leaves/powdery_mildew/f7385075-b341-47bf-8521-5561918bd3cb___FREC_Pwd.M 0501_flipLR.JPG  \n  inflating: inputs/datasets/cherry-leaves/powdery_mildew/f78507be-2f2a-456e-bf8b-4fb02409a4d8___FREC_Pwd.M 5071.JPG  \n  inflating: inputs/datasets/cherry-leaves/powdery_mildew/f78507be-2f2a-456e-bf8b-4fb02409a4d8___FREC_Pwd.M 5071_flipLR.JPG  \n  inflating: inputs/datasets/cherry-leaves/powdery_mildew/f7d72dfe-0b0c-44a2-96b3-fd588eb10b12___FREC_Pwd.M 0500.JPG  \n  inflating: inputs/datasets/cherry-leaves/powdery_mildew/f7d72dfe-0b0c-44a2-96b3-fd588eb10b12___FREC_Pwd.M 0500_flipLR.JPG  \n  inflating: inputs/datasets/cherry-leaves/powdery_mildew/f7f22a1d-718d-4b6d-ac7a-e0121d97d55e___FREC_Pwd.M 4533.JPG  \n  inflating: inputs/datasets/cherry-leaves/powdery_mildew/f7f22a1d-718d-4b6d-ac7a-e0121d97d55e___FREC_Pwd.M 4533_flipLR.JPG  \n  inflating: inputs/datasets/cherry-leaves/powdery_mildew/f7f8411d-93f5-4fd7-bf9a-9759cf6acd8b___FREC_Pwd.M 4466.JPG  \n  inflating: inputs/datasets/cherry-leaves/powdery_mildew/f7f8411d-93f5-4fd7-bf9a-9759cf6acd8b___FREC_Pwd.M 4466_flipLR.JPG  \n  inflating: inputs/datasets/cherry-leaves/powdery_mildew/f84ac3f6-8aa8-43cb-aaf4-6bc79e189608___FREC_Pwd.M 0269.JPG  \n  inflating: inputs/datasets/cherry-leaves/powdery_mildew/f84ac3f6-8aa8-43cb-aaf4-6bc79e189608___FREC_Pwd.M 0269_flipLR.JPG  \n  inflating: inputs/datasets/cherry-leaves/powdery_mildew/f8541ff1-4f29-4c2a-8ee6-8ac486706f6c___FREC_Pwd.M 4535.JPG  \n  inflating: inputs/datasets/cherry-leaves/powdery_mildew/f8541ff1-4f29-4c2a-8ee6-8ac486706f6c___FREC_Pwd.M 4535_flipLR.JPG  \n  inflating: inputs/datasets/cherry-leaves/powdery_mildew/f8719075-186b-41c2-af02-65f27d50e01f___FREC_Pwd.M 0289.JPG  \n  inflating: inputs/datasets/cherry-leaves/powdery_mildew/f8719075-186b-41c2-af02-65f27d50e01f___FREC_Pwd.M 0289_flipLR.JPG  \n  inflating: inputs/datasets/cherry-leaves/powdery_mildew/f8dd4a75-9b51-4d3a-8774-817bff84b1a7___FREC_Pwd.M 0570.JPG  \n  inflating: inputs/datasets/cherry-leaves/powdery_mildew/f8dd4a75-9b51-4d3a-8774-817bff84b1a7___FREC_Pwd.M 0570_flipLR.JPG  \n  inflating: inputs/datasets/cherry-leaves/powdery_mildew/f951d0e5-1303-41c7-a4fb-d691a64cca90___FREC_Pwd.M 4722.JPG  \n  inflating: inputs/datasets/cherry-leaves/powdery_mildew/f951d0e5-1303-41c7-a4fb-d691a64cca90___FREC_Pwd.M 4722_flipLR.JPG  \n  inflating: inputs/datasets/cherry-leaves/powdery_mildew/f9699ceb-b9c3-43f5-8968-d6afa32a0153___FREC_Pwd.M 5160.JPG  \n  inflating: inputs/datasets/cherry-leaves/powdery_mildew/f9699ceb-b9c3-43f5-8968-d6afa32a0153___FREC_Pwd.M 5160_flipLR.JPG  \n  inflating: inputs/datasets/cherry-leaves/powdery_mildew/f9dfbedf-66b4-4493-9ce9-6f6aca0cb152___FREC_Pwd.M 4926.JPG  \n  inflating: inputs/datasets/cherry-leaves/powdery_mildew/f9dfbedf-66b4-4493-9ce9-6f6aca0cb152___FREC_Pwd.M 4926_flipLR.JPG  \n  inflating: inputs/datasets/cherry-leaves/powdery_mildew/f9ecca4f-e052-40e9-8d79-dc04ba579ff0___FREC_Pwd.M 0404.JPG  \n  inflating: inputs/datasets/cherry-leaves/powdery_mildew/f9ecca4f-e052-40e9-8d79-dc04ba579ff0___FREC_Pwd.M 0404_flipLR.JPG  \n  inflating: inputs/datasets/cherry-leaves/powdery_mildew/fae0ccf9-efd8-47c2-af4d-77a13740e172___FREC_Pwd.M 4779.JPG  \n  inflating: inputs/datasets/cherry-leaves/powdery_mildew/fae0ccf9-efd8-47c2-af4d-77a13740e172___FREC_Pwd.M 4779_flipLR.JPG  \n  inflating: inputs/datasets/cherry-leaves/powdery_mildew/fb9f7797-a300-4486-aef5-0203b072ddce___FREC_Pwd.M 4510.JPG  \n  inflating: inputs/datasets/cherry-leaves/powdery_mildew/fb9f7797-a300-4486-aef5-0203b072ddce___FREC_Pwd.M 4510_flipLR.JPG  \n  inflating: inputs/datasets/cherry-leaves/powdery_mildew/fbc52151-4c04-430b-a188-a03b17d93d0d___FREC_Pwd.M 0266.JPG  \n  inflating: inputs/datasets/cherry-leaves/powdery_mildew/fbc52151-4c04-430b-a188-a03b17d93d0d___FREC_Pwd.M 0266_flipLR.JPG  \n  inflating: inputs/datasets/cherry-leaves/powdery_mildew/fc3407ee-984f-4091-b4a9-0402ade2ecb7___FREC_Pwd.M 0422.JPG  \n  inflating: inputs/datasets/cherry-leaves/powdery_mildew/fc3407ee-984f-4091-b4a9-0402ade2ecb7___FREC_Pwd.M 0422_flipLR.JPG  \n  inflating: inputs/datasets/cherry-leaves/powdery_mildew/fc524b6b-01c6-42d8-9c5c-0d9bec5ba194___FREC_Pwd.M 4522.JPG  \n  inflating: inputs/datasets/cherry-leaves/powdery_mildew/fc524b6b-01c6-42d8-9c5c-0d9bec5ba194___FREC_Pwd.M 4522_flipLR.JPG  \n  inflating: inputs/datasets/cherry-leaves/powdery_mildew/fc5a6065-20bd-440d-92fd-03457bdb8614___FREC_Pwd.M 4589.JPG  \n  inflating: inputs/datasets/cherry-leaves/powdery_mildew/fc5a6065-20bd-440d-92fd-03457bdb8614___FREC_Pwd.M 4589_flipLR.JPG  \n  inflating: inputs/datasets/cherry-leaves/powdery_mildew/fc82d54d-ebc6-47d7-8036-2c308524e259___FREC_Pwd.M 4566.JPG  \n  inflating: inputs/datasets/cherry-leaves/powdery_mildew/fc82d54d-ebc6-47d7-8036-2c308524e259___FREC_Pwd.M 4566_flipLR.JPG  \n  inflating: inputs/datasets/cherry-leaves/powdery_mildew/fc970b2a-101f-46d8-ba74-72fc03d0c85c___FREC_Pwd.M 4634.JPG  \n  inflating: inputs/datasets/cherry-leaves/powdery_mildew/fc970b2a-101f-46d8-ba74-72fc03d0c85c___FREC_Pwd.M 4634_flipLR.JPG  \n  inflating: inputs/datasets/cherry-leaves/powdery_mildew/fcc71c46-4b27-48c6-99be-528a12895cd0___FREC_Pwd.M 4773.JPG  \n  inflating: inputs/datasets/cherry-leaves/powdery_mildew/fcc71c46-4b27-48c6-99be-528a12895cd0___FREC_Pwd.M 4773_flipLR.JPG  \n  inflating: inputs/datasets/cherry-leaves/powdery_mildew/fccd6a7d-673f-4cf5-a136-97cc303e00bb___FREC_Pwd.M 4653.JPG  \n  inflating: inputs/datasets/cherry-leaves/powdery_mildew/fccd6a7d-673f-4cf5-a136-97cc303e00bb___FREC_Pwd.M 4653_flipLR.JPG  \n  inflating: inputs/datasets/cherry-leaves/powdery_mildew/fd12fe2b-b86f-4a8b-a4f0-edffeabb7536___FREC_Pwd.M 0345.JPG  \n  inflating: inputs/datasets/cherry-leaves/powdery_mildew/fd12fe2b-b86f-4a8b-a4f0-edffeabb7536___FREC_Pwd.M 0345_flipLR.JPG  \n  inflating: inputs/datasets/cherry-leaves/powdery_mildew/fd16a9a9-e8d6-4122-b393-a31e787b9d28___FREC_Pwd.M 4762.JPG  \n  inflating: inputs/datasets/cherry-leaves/powdery_mildew/fd16a9a9-e8d6-4122-b393-a31e787b9d28___FREC_Pwd.M 4762_flipLR.JPG  \n  inflating: inputs/datasets/cherry-leaves/powdery_mildew/fd437fb9-f319-4f40-9142-b8800bccd21e___FREC_Pwd.M 5142.JPG  \n  inflating: inputs/datasets/cherry-leaves/powdery_mildew/fd437fb9-f319-4f40-9142-b8800bccd21e___FREC_Pwd.M 5142_flipLR.JPG  \n  inflating: inputs/datasets/cherry-leaves/powdery_mildew/fd7fbe5c-d234-4c16-b587-faed3407e2dd___FREC_Pwd.M 0474.JPG  \n  inflating: inputs/datasets/cherry-leaves/powdery_mildew/fd7fbe5c-d234-4c16-b587-faed3407e2dd___FREC_Pwd.M 0474_flipLR.JPG  \n  inflating: inputs/datasets/cherry-leaves/powdery_mildew/fd8d4072-e0b3-4936-95c2-e2d6dc6d22b0___FREC_Pwd.M 0250.JPG  \n  inflating: inputs/datasets/cherry-leaves/powdery_mildew/fd8d4072-e0b3-4936-95c2-e2d6dc6d22b0___FREC_Pwd.M 0250_flipLR.JPG  \n  inflating: inputs/datasets/cherry-leaves/powdery_mildew/fded10e6-0668-43d4-be77-e091cafc25fd___FREC_Pwd.M 0538.JPG  \n  inflating: inputs/datasets/cherry-leaves/powdery_mildew/fded10e6-0668-43d4-be77-e091cafc25fd___FREC_Pwd.M 0538_flipLR.JPG  \n  inflating: inputs/datasets/cherry-leaves/powdery_mildew/fdf38a3e-2855-4a4c-8094-9cfd9a94d037___FREC_Pwd.M 0351.JPG  \n  inflating: inputs/datasets/cherry-leaves/powdery_mildew/fdf38a3e-2855-4a4c-8094-9cfd9a94d037___FREC_Pwd.M 0351_flipLR.JPG  \n  inflating: inputs/datasets/cherry-leaves/powdery_mildew/fdfada36-240c-4274-afd3-fc159f236d36___FREC_Pwd.M 4831.JPG  \n  inflating: inputs/datasets/cherry-leaves/powdery_mildew/fdfada36-240c-4274-afd3-fc159f236d36___FREC_Pwd.M 4831_flipLR.JPG  \n  inflating: inputs/datasets/cherry-leaves/powdery_mildew/fe4079cc-20c7-4c71-bd2f-a07e97c8e392___FREC_Pwd.M 4511.JPG  \n  inflating: inputs/datasets/cherry-leaves/powdery_mildew/fe4079cc-20c7-4c71-bd2f-a07e97c8e392___FREC_Pwd.M 4511_flipLR.JPG  \n  inflating: inputs/datasets/cherry-leaves/powdery_mildew/fe410980-15d4-472d-b8e6-4fece7d302ee___FREC_Pwd.M 4949.JPG  \n  inflating: inputs/datasets/cherry-leaves/powdery_mildew/fe410980-15d4-472d-b8e6-4fece7d302ee___FREC_Pwd.M 4949_flipLR.JPG  \n  inflating: inputs/datasets/cherry-leaves/powdery_mildew/fee69dd9-eeb1-4cf2-b249-17482605f1f7___FREC_Pwd.M 4689.JPG  \n  inflating: inputs/datasets/cherry-leaves/powdery_mildew/fee69dd9-eeb1-4cf2-b249-17482605f1f7___FREC_Pwd.M 4689_flipLR.JPG  \n  inflating: inputs/datasets/cherry-leaves/powdery_mildew/ff2a06ae-9fc1-4436-bfcd-346a18dd5bfb___FREC_Pwd.M 4840.JPG  \n  inflating: inputs/datasets/cherry-leaves/powdery_mildew/ff2a06ae-9fc1-4436-bfcd-346a18dd5bfb___FREC_Pwd.M 4840_flipLR.JPG  \n  inflating: inputs/datasets/cherry-leaves/powdery_mildew/ff59e364-f269-4a12-ac5a-be4f1e05dbe3___FREC_Pwd.M 4579.JPG  \n  inflating: inputs/datasets/cherry-leaves/powdery_mildew/ff59e364-f269-4a12-ac5a-be4f1e05dbe3___FREC_Pwd.M 4579_flipLR.JPG  \n  inflating: inputs/datasets/cherry-leaves/powdery_mildew/ff64f373-b8e3-4e59-9e7a-7065957a4dc2___FREC_Pwd.M 0583.JPG  \n  inflating: inputs/datasets/cherry-leaves/powdery_mildew/ff64f373-b8e3-4e59-9e7a-7065957a4dc2___FREC_Pwd.M 0583_flipLR.JPG  \n  inflating: inputs/datasets/cherry-leaves/powdery_mildew/ffdeb404-b84d-4389-9cc9-e1d3159374fe___FREC_Pwd.M 4625.JPG  \n  inflating: inputs/datasets/cherry-leaves/powdery_mildew/ffdeb404-b84d-4389-9cc9-e1d3159374fe___FREC_Pwd.M 4625_flipLR.JPG  \n  inflating: inputs/datasets/cherry-leaves/powdery_mildew/fff3ae4b-4bce-4b7a-b53c-98c482d9d8fd___FREC_Pwd.M 0414.JPG  \n  inflating: inputs/datasets/cherry-leaves/powdery_mildew/fff3ae4b-4bce-4b7a-b53c-98c482d9d8fd___FREC_Pwd.M 0414_flipLR.JPG  \n  inflating: inputs/datasets/cherry-leaves/powdery_mildew/fffc6a5c-66f3-4d73-afd2-84862fb83c4f___FREC_Pwd.M 5085.JPG  \n  inflating: inputs/datasets/cherry-leaves/powdery_mildew/fffc6a5c-66f3-4d73-afd2-84862fb83c4f___FREC_Pwd.M 5085_flipLR.JPG  \n"
        }
      ],
      "source": [
        "! unzip {DestinationFolder}/*.zip -d {DestinationFolder} \\\n",
        "  && rm {DestinationFolder}/*.zip \\\n",
        "  && rm kaggle.json"
      ]
    },
    {
      "cell_type": "markdown",
      "metadata": {
        "id": "uFQo3ycuO-v6"
      },
      "source": [
        "# Data Preparation"
      ]
    },
    {
      "source": [
        "This section will be dedicated to removing any files from the dataset that aren't images (therefore aren't relevant) and seperates them into train, test and validation subfolders."
      ],
      "cell_type": "markdown",
      "metadata": {}
    },
    {
      "cell_type": "code",
      "execution_count": 12,
      "metadata": {},
      "outputs": [],
      "source": [
        "\"\"\"\n",
        "This function was written by the Code institute team in the malaria detector project,\n",
        "this was an efficient way of checking for image extensions and I couldn't think of an alternative way to write a function\n",
        "for the same purpose.\n",
        "\"\"\"\n",
        "\n",
        "def remove_non_image_file(my_data_dir):\n",
        "    image_extension = ('.png', '.jpg', '.jpeg')\n",
        "    folders = os.listdir(my_data_dir)\n",
        "    for folder in folders:\n",
        "        files = os.listdir(my_data_dir + '/' + folder)\n",
        "        # print(files)\n",
        "        i = []\n",
        "        j = []\n",
        "        for given_file in files:\n",
        "            if not given_file.lower().endswith(image_extension):\n",
        "                file_location = my_data_dir + '/' + folder + '/' + given_file\n",
        "                os.remove(file_location)  # remove non image file\n",
        "                i.append(1)\n",
        "            else:\n",
        "                j.append(1)\n",
        "                pass\n",
        "        print(f\"Folder: {folder} - has image file\", len(j))\n",
        "        print(f\"Folder: {folder} - has non-image file\", len(i))"
      ]
    },
    {
      "cell_type": "code",
      "execution_count": 15,
      "metadata": {
        "tags": []
      },
      "outputs": [
        {
          "output_type": "stream",
          "name": "stdout",
          "text": "Folder: healthy - has image file 2104\nFolder: healthy - has non-image file 0\nFolder: powdery_mildew - has image file 2104\nFolder: powdery_mildew - has non-image file 0\n"
        }
      ],
      "source": [
        "remove_non_image_file(my_data_dir='inputs/datasets/cherry-leaves/')"
      ]
    },
    {
      "cell_type": "code",
      "execution_count": 16,
      "metadata": {},
      "outputs": [],
      "source": [
        "import os\n",
        "import shutil\n",
        "import random\n",
        "import joblib\n",
        "\n",
        "\"\"\"\n",
        "This function was written by the Code institute team in the malaria detector project,\n",
        "this was an efficient way of separating the images into different folders with a given ratio parameter\n",
        "and I couldn't think of an alternative way to write a function\n",
        "for the same purpose.\n",
        "\"\"\"\n",
        "\n",
        "def split_train_validation_test_images(my_data_dir, train_set_ratio, validation_set_ratio, test_set_ratio):\n",
        "\n",
        "    if train_set_ratio + validation_set_ratio + test_set_ratio != 1.0:\n",
        "        print(\"train_set_ratio + validation_set_ratio + test_set_ratio should sum to 1.0\")\n",
        "        return\n",
        "\n",
        "    # gets classes labels\n",
        "    labels = os.listdir(my_data_dir)  # it should get only the folder name\n",
        "    if 'test' in labels:\n",
        "        pass\n",
        "    else:\n",
        "        # create train, test folders with classes labels sub-folder\n",
        "        for folder in ['train', 'validation', 'test']:\n",
        "            for label in labels:\n",
        "                os.makedirs(name=my_data_dir + '/' + folder + '/' + label)\n",
        "\n",
        "        for label in labels:\n",
        "\n",
        "            files = os.listdir(my_data_dir + '/' + label)\n",
        "            random.shuffle(files)\n",
        "\n",
        "            train_set_files_qty = int(len(files) * train_set_ratio)\n",
        "            validation_set_files_qty = int(len(files) * validation_set_ratio)\n",
        "\n",
        "            count = 1\n",
        "            for file_name in files:\n",
        "                if count <= train_set_files_qty:\n",
        "                    # move a given file to the train set\n",
        "                    shutil.move(my_data_dir + '/' + label + '/' + file_name,\n",
        "                                my_data_dir + '/train/' + label + '/' + file_name)\n",
        "\n",
        "                elif count <= (train_set_files_qty + validation_set_files_qty):\n",
        "                    # move a given file to the validation set\n",
        "                    shutil.move(my_data_dir + '/' + label + '/' + file_name,\n",
        "                                my_data_dir + '/validation/' + label + '/' + file_name)\n",
        "\n",
        "                else:\n",
        "                    # move given file to test set\n",
        "                    shutil.move(my_data_dir + '/' + label + '/' + file_name,\n",
        "                                my_data_dir + '/test/' + label + '/' + file_name)\n",
        "\n",
        "                count += 1\n",
        "\n",
        "            os.rmdir(my_data_dir + '/' + label)"
      ]
    },
    {
      "cell_type": "code",
      "execution_count": 17,
      "metadata": {},
      "outputs": [],
      "source": [
        "split_train_validation_test_images(my_data_dir=f\"inputs/datasets/cherry-leaves/\",\n",
        "                                   train_set_ratio=0.7,\n",
        "                                   validation_set_ratio=0.1,\n",
        "                                   test_set_ratio=0.2\n",
        "                                   )"
      ]
    },
    {
      "cell_type": "markdown",
      "metadata": {},
      "source": [
        "---"
      ]
    },
    {
      "cell_type": "markdown",
      "metadata": {},
      "source": [
        "# Conclusions\n",
        "\n",
        "* The Dataset has now been loaded and saved into it's own inputs folder with individual test, train and validation sets\n",
        "* the next step is data analysis with the train set, then visualizing that data to answer business requirement 1."
      ]
    }
  ],
  "metadata": {
    "accelerator": "GPU",
    "colab": {
      "name": "Data Practitioner Jupyter Notebook.ipynb",
      "provenance": [],
      "toc_visible": true
    },
    "interpreter": {
      "hash": "8b8334dab9339717f727a1deaf837b322d7a41c20d15cc86be99a8e69ceec8ce"
    },
    "kernelspec": {
      "display_name": "Python 3.8.12 64-bit ('3.8.12': pyenv)",
      "name": "python381264bit3812pyenv6e6a17c6dc7b4edd8a5e0c3ec4747ca9"
    },
    "language_info": {
      "codemirror_mode": {
        "name": "ipython",
        "version": 3
      },
      "file_extension": ".py",
      "mimetype": "text/x-python",
      "name": "python",
      "nbconvert_exporter": "python",
      "pygments_lexer": "ipython3",
      "version": "3.8.12-final"
    },
    "orig_nbformat": 2
  },
  "nbformat": 4,
  "nbformat_minor": 2
}